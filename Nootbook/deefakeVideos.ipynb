{
  "nbformat": 4,
  "nbformat_minor": 0,
  "metadata": {
    "colab": {
      "provenance": [],
      "gpuType": "T4"
    },
    "kernelspec": {
      "name": "python3",
      "display_name": "Python 3"
    },
    "language_info": {
      "name": "python"
    },
    "accelerator": "GPU"
  },
  "cells": [
    {
      "cell_type": "code",
      "source": [
        "!pip install opencv-python"
      ],
      "metadata": {
        "colab": {
          "base_uri": "https://localhost:8080/"
        },
        "id": "v-zMUXM9tkeS",
        "outputId": "01996032-85e6-4887-8b36-b374604c0985"
      },
      "execution_count": 2,
      "outputs": [
        {
          "output_type": "stream",
          "name": "stdout",
          "text": [
            "Requirement already satisfied: opencv-python in /usr/local/lib/python3.12/dist-packages (4.12.0.88)\n",
            "Requirement already satisfied: numpy<2.3.0,>=2 in /usr/local/lib/python3.12/dist-packages (from opencv-python) (2.0.2)\n"
          ]
        }
      ]
    },
    {
      "cell_type": "code",
      "source": [
        "import os\n",
        "import cv2\n",
        "import numpy as np\n",
        "import pandas as pd\n",
        "import tensorflow as tf\n",
        "\n"
      ],
      "metadata": {
        "id": "aXFr5RtFNFA2"
      },
      "execution_count": 28,
      "outputs": []
    },
    {
      "cell_type": "code",
      "execution_count": 4,
      "metadata": {
        "colab": {
          "base_uri": "https://localhost:8080/"
        },
        "id": "13vT1wvhMmqp",
        "outputId": "e79379bc-9131-40fa-b985-d7ba89a788c9"
      },
      "outputs": [
        {
          "output_type": "stream",
          "name": "stdout",
          "text": [
            "real\n",
            "fake\n"
          ]
        }
      ],
      "source": [
        "path=\"/content/drive/MyDrive/processed_faces_final\"\n",
        "\n",
        "datset_path=os.listdir(path)\n",
        "for item in datset_path:\n",
        "  print(item)\n",
        "\n",
        "img_size=224\n",
        "\n",
        "image=[]\n",
        "label=[]\n",
        "\n",
        "for i in datset_path:\n",
        "  data_path=path+\"/\"+i\n",
        "  filename=[i for i in os.listdir(data_path)]\n",
        "\n",
        "  for f in filename:\n",
        "    img=cv2.imread(data_path+\"/\"+f)\n",
        "    img=cv2.resize(img,(img_size,img_size))\n",
        "    image.append(img)\n",
        "    label.append(i)\n"
      ]
    },
    {
      "cell_type": "code",
      "source": [
        "images=np.array(image)\n",
        "\n",
        "images=images.astype('float32')/255.0\n",
        "\n",
        "images.shape"
      ],
      "metadata": {
        "id": "-gtuafZLtm3V",
        "colab": {
          "base_uri": "https://localhost:8080/"
        },
        "outputId": "0f586a62-0e18-4732-cc10-5ddee52c62be"
      },
      "execution_count": 9,
      "outputs": [
        {
          "output_type": "execute_result",
          "data": {
            "text/plain": [
              "(1997, 224, 224, 3)"
            ]
          },
          "metadata": {},
          "execution_count": 9
        }
      ]
    },
    {
      "cell_type": "code",
      "source": [
        "file_paths = []\n",
        "labels = []\n",
        "\n",
        "for i in datset_path:\n",
        "    data_path = path+\"/\"+i\n",
        "    filename=[f for f in os.listdir(data_path)]\n",
        "\n",
        "    for f in filename:\n",
        "        file_paths.append(data_path+\"/\"+f)\n",
        "        labels.append(i)\n",
        "\n",
        "df = pd.DataFrame({\n",
        "    \"file_path\": file_paths,\n",
        "    \"label\": labels\n",
        "})\n",
        "\n",
        "print(df.head())\n"
      ],
      "metadata": {
        "colab": {
          "base_uri": "https://localhost:8080/"
        },
        "id": "-A7nxFKrAAZR",
        "outputId": "74309a60-c2e1-4153-f5fa-d85981ab2f46"
      },
      "execution_count": 17,
      "outputs": [
        {
          "output_type": "stream",
          "name": "stdout",
          "text": [
            "                                           file_path label\n",
            "0  /content/drive/MyDrive/processed_faces_final/r...  real\n",
            "1  /content/drive/MyDrive/processed_faces_final/r...  real\n",
            "2  /content/drive/MyDrive/processed_faces_final/r...  real\n",
            "3  /content/drive/MyDrive/processed_faces_final/r...  real\n",
            "4  /content/drive/MyDrive/processed_faces_final/r...  real\n"
          ]
        }
      ]
    },
    {
      "cell_type": "code",
      "source": [
        "from sklearn.preprocessing import LabelEncoder,OneHotEncoder\n",
        "\n",
        "y=df[\"label\"].values\n",
        "print(y)\n",
        "\n",
        "y_labelencode=LabelEncoder()\n",
        "y=y_labelencode.fit_transform(y)\n",
        "print(y)"
      ],
      "metadata": {
        "colab": {
          "base_uri": "https://localhost:8080/"
        },
        "id": "cTucGgC7DQa-",
        "outputId": "bbc074f1-2be9-450a-f17d-a73a319943dc"
      },
      "execution_count": 18,
      "outputs": [
        {
          "output_type": "stream",
          "name": "stdout",
          "text": [
            "['real' 'real' 'real' ... 'fake' 'fake' 'fake']\n",
            "[1 1 1 ... 0 0 0]\n"
          ]
        }
      ]
    },
    {
      "cell_type": "code",
      "source": [
        "y=y.reshape(-1,1)\n",
        "\n",
        "from sklearn.compose import ColumnTransformer\n",
        "\n",
        "ct=ColumnTransformer([('my_ohe',OneHotEncoder(),[0])],remainder='passthrough')\n",
        "y=ct.fit_transform(y)\n",
        "\n",
        "print(y[:5])\n",
        "print(y[35:])\n"
      ],
      "metadata": {
        "colab": {
          "base_uri": "https://localhost:8080/"
        },
        "id": "efw5JhK7EbFK",
        "outputId": "62e8b8e8-7985-4e85-9fec-bbcb531e212f"
      },
      "execution_count": 20,
      "outputs": [
        {
          "output_type": "stream",
          "name": "stdout",
          "text": [
            "[[0. 1.]\n",
            " [0. 1.]\n",
            " [0. 1.]\n",
            " [0. 1.]\n",
            " [0. 1.]]\n",
            "[[0. 1.]\n",
            " [0. 1.]\n",
            " [0. 1.]\n",
            " ...\n",
            " [1. 0.]\n",
            " [1. 0.]\n",
            " [1. 0.]]\n"
          ]
        }
      ]
    },
    {
      "cell_type": "code",
      "source": [
        "from sklearn.utils import shuffle\n",
        "from sklearn.model_selection import train_test_split\n",
        "\n",
        "images,y=shuffle(images,y,random_state=1)\n",
        "\n",
        "train_x,test_x,train_y,test_y=train_test_split(images,y,test_size=0.05,random_state=415)\n"
      ],
      "metadata": {
        "id": "1LRTMDdXFQHH"
      },
      "execution_count": 24,
      "outputs": []
    },
    {
      "cell_type": "code",
      "source": [
        "print(train_x.shape,train_y.shape)\n",
        "print(test_x.shape,test_y.shape)"
      ],
      "metadata": {
        "colab": {
          "base_uri": "https://localhost:8080/"
        },
        "id": "DxLm2187GCVI",
        "outputId": "8318fa9c-a4e2-482f-a53b-18624de189d5"
      },
      "execution_count": 25,
      "outputs": [
        {
          "output_type": "stream",
          "name": "stdout",
          "text": [
            "(1897, 224, 224, 3) (1897, 2)\n",
            "(100, 224, 224, 3) (100, 2)\n"
          ]
        }
      ]
    },
    {
      "cell_type": "code",
      "source": [
        "from tensorflow.keras import layers\n",
        "from tensorflow.keras.applications import EfficientNetB0"
      ],
      "metadata": {
        "id": "T6ov1twBGIk-"
      },
      "execution_count": 29,
      "outputs": []
    },
    {
      "cell_type": "code",
      "source": [
        "num_class=2\n",
        "req_img_size=224\n",
        "size=(req_img_size,req_img_size)\n",
        "\n",
        "inputs=layers.Input(shape=(req_img_size,req_img_size,3))\n",
        "\n",
        "output=EfficientNetB0(include_top=True,weights=None,classes=num_class)(inputs)"
      ],
      "metadata": {
        "id": "W7qRqxJAIGG9"
      },
      "execution_count": 27,
      "outputs": []
    },
    {
      "cell_type": "code",
      "source": [
        "model=tf.keras.Model(inputs,output)\n",
        "model.compile(optimizer=\"adam\",loss=\"categorical_crossentropy\",metrics=[\"accuracy\"])\n",
        "model.summary()"
      ],
      "metadata": {
        "colab": {
          "base_uri": "https://localhost:8080/",
          "height": 204
        },
        "id": "t0287pqSJE6v",
        "outputId": "078679d5-380c-4ce7-a757-d09ac1eda0b7"
      },
      "execution_count": 31,
      "outputs": [
        {
          "output_type": "display_data",
          "data": {
            "text/plain": [
              "\u001b[1mModel: \"functional_1\"\u001b[0m\n"
            ],
            "text/html": [
              "<pre style=\"white-space:pre;overflow-x:auto;line-height:normal;font-family:Menlo,'DejaVu Sans Mono',consolas,'Courier New',monospace\"><span style=\"font-weight: bold\">Model: \"functional_1\"</span>\n",
              "</pre>\n"
            ]
          },
          "metadata": {}
        },
        {
          "output_type": "display_data",
          "data": {
            "text/plain": [
              "┏━━━━━━━━━━━━━━━━━━━━━━━━━━━━━━━━━┳━━━━━━━━━━━━━━━━━━━━━━━━┳━━━━━━━━━━━━━━━┓\n",
              "┃\u001b[1m \u001b[0m\u001b[1mLayer (type)                   \u001b[0m\u001b[1m \u001b[0m┃\u001b[1m \u001b[0m\u001b[1mOutput Shape          \u001b[0m\u001b[1m \u001b[0m┃\u001b[1m \u001b[0m\u001b[1m      Param #\u001b[0m\u001b[1m \u001b[0m┃\n",
              "┡━━━━━━━━━━━━━━━━━━━━━━━━━━━━━━━━━╇━━━━━━━━━━━━━━━━━━━━━━━━╇━━━━━━━━━━━━━━━┩\n",
              "│ input_layer (\u001b[38;5;33mInputLayer\u001b[0m)        │ (\u001b[38;5;45mNone\u001b[0m, \u001b[38;5;34m224\u001b[0m, \u001b[38;5;34m224\u001b[0m, \u001b[38;5;34m3\u001b[0m)    │             \u001b[38;5;34m0\u001b[0m │\n",
              "├─────────────────────────────────┼────────────────────────┼───────────────┤\n",
              "│ efficientnetb0 (\u001b[38;5;33mFunctional\u001b[0m)     │ (\u001b[38;5;45mNone\u001b[0m, \u001b[38;5;34m2\u001b[0m)              │     \u001b[38;5;34m4,052,133\u001b[0m │\n",
              "└─────────────────────────────────┴────────────────────────┴───────────────┘\n"
            ],
            "text/html": [
              "<pre style=\"white-space:pre;overflow-x:auto;line-height:normal;font-family:Menlo,'DejaVu Sans Mono',consolas,'Courier New',monospace\">┏━━━━━━━━━━━━━━━━━━━━━━━━━━━━━━━━━┳━━━━━━━━━━━━━━━━━━━━━━━━┳━━━━━━━━━━━━━━━┓\n",
              "┃<span style=\"font-weight: bold\"> Layer (type)                    </span>┃<span style=\"font-weight: bold\"> Output Shape           </span>┃<span style=\"font-weight: bold\">       Param # </span>┃\n",
              "┡━━━━━━━━━━━━━━━━━━━━━━━━━━━━━━━━━╇━━━━━━━━━━━━━━━━━━━━━━━━╇━━━━━━━━━━━━━━━┩\n",
              "│ input_layer (<span style=\"color: #0087ff; text-decoration-color: #0087ff\">InputLayer</span>)        │ (<span style=\"color: #00d7ff; text-decoration-color: #00d7ff\">None</span>, <span style=\"color: #00af00; text-decoration-color: #00af00\">224</span>, <span style=\"color: #00af00; text-decoration-color: #00af00\">224</span>, <span style=\"color: #00af00; text-decoration-color: #00af00\">3</span>)    │             <span style=\"color: #00af00; text-decoration-color: #00af00\">0</span> │\n",
              "├─────────────────────────────────┼────────────────────────┼───────────────┤\n",
              "│ efficientnetb0 (<span style=\"color: #0087ff; text-decoration-color: #0087ff\">Functional</span>)     │ (<span style=\"color: #00d7ff; text-decoration-color: #00d7ff\">None</span>, <span style=\"color: #00af00; text-decoration-color: #00af00\">2</span>)              │     <span style=\"color: #00af00; text-decoration-color: #00af00\">4,052,133</span> │\n",
              "└─────────────────────────────────┴────────────────────────┴───────────────┘\n",
              "</pre>\n"
            ]
          },
          "metadata": {}
        },
        {
          "output_type": "display_data",
          "data": {
            "text/plain": [
              "\u001b[1m Total params: \u001b[0m\u001b[38;5;34m4,052,133\u001b[0m (15.46 MB)\n"
            ],
            "text/html": [
              "<pre style=\"white-space:pre;overflow-x:auto;line-height:normal;font-family:Menlo,'DejaVu Sans Mono',consolas,'Courier New',monospace\"><span style=\"font-weight: bold\"> Total params: </span><span style=\"color: #00af00; text-decoration-color: #00af00\">4,052,133</span> (15.46 MB)\n",
              "</pre>\n"
            ]
          },
          "metadata": {}
        },
        {
          "output_type": "display_data",
          "data": {
            "text/plain": [
              "\u001b[1m Trainable params: \u001b[0m\u001b[38;5;34m4,010,110\u001b[0m (15.30 MB)\n"
            ],
            "text/html": [
              "<pre style=\"white-space:pre;overflow-x:auto;line-height:normal;font-family:Menlo,'DejaVu Sans Mono',consolas,'Courier New',monospace\"><span style=\"font-weight: bold\"> Trainable params: </span><span style=\"color: #00af00; text-decoration-color: #00af00\">4,010,110</span> (15.30 MB)\n",
              "</pre>\n"
            ]
          },
          "metadata": {}
        },
        {
          "output_type": "display_data",
          "data": {
            "text/plain": [
              "\u001b[1m Non-trainable params: \u001b[0m\u001b[38;5;34m42,023\u001b[0m (164.16 KB)\n"
            ],
            "text/html": [
              "<pre style=\"white-space:pre;overflow-x:auto;line-height:normal;font-family:Menlo,'DejaVu Sans Mono',consolas,'Courier New',monospace\"><span style=\"font-weight: bold\"> Non-trainable params: </span><span style=\"color: #00af00; text-decoration-color: #00af00\">42,023</span> (164.16 KB)\n",
              "</pre>\n"
            ]
          },
          "metadata": {}
        }
      ]
    },
    {
      "cell_type": "code",
      "source": [
        "hist=model.fit(train_x,train_y,epochs=20,verbose=2)"
      ],
      "metadata": {
        "colab": {
          "base_uri": "https://localhost:8080/"
        },
        "id": "xbrge21mJyWH",
        "outputId": "f3843240-11ba-4cd0-a666-a32bcce44b62"
      },
      "execution_count": 32,
      "outputs": [
        {
          "output_type": "stream",
          "name": "stdout",
          "text": [
            "Epoch 1/20\n",
            "60/60 - 149s - 2s/step - accuracy: 0.4997 - loss: 2.4921\n",
            "Epoch 2/20\n",
            "60/60 - 37s - 620ms/step - accuracy: 0.5008 - loss: 1.5839\n",
            "Epoch 3/20\n",
            "60/60 - 10s - 170ms/step - accuracy: 0.5430 - loss: 1.1821\n",
            "Epoch 4/20\n",
            "60/60 - 7s - 116ms/step - accuracy: 0.5630 - loss: 1.1950\n",
            "Epoch 5/20\n",
            "60/60 - 10s - 174ms/step - accuracy: 0.6526 - loss: 1.0970\n",
            "Epoch 6/20\n",
            "60/60 - 10s - 171ms/step - accuracy: 0.6452 - loss: 0.9316\n",
            "Epoch 7/20\n",
            "60/60 - 10s - 170ms/step - accuracy: 0.7812 - loss: 0.6393\n",
            "Epoch 8/20\n",
            "60/60 - 7s - 118ms/step - accuracy: 0.6616 - loss: 0.8412\n",
            "Epoch 9/20\n",
            "60/60 - 10s - 173ms/step - accuracy: 0.7285 - loss: 0.6485\n",
            "Epoch 10/20\n",
            "60/60 - 7s - 118ms/step - accuracy: 0.8092 - loss: 0.5665\n",
            "Epoch 11/20\n",
            "60/60 - 10s - 171ms/step - accuracy: 0.8492 - loss: 0.4570\n",
            "Epoch 12/20\n",
            "60/60 - 7s - 120ms/step - accuracy: 0.8777 - loss: 0.3148\n",
            "Epoch 13/20\n",
            "60/60 - 10s - 172ms/step - accuracy: 0.8772 - loss: 0.3433\n",
            "Epoch 14/20\n",
            "60/60 - 10s - 167ms/step - accuracy: 0.8951 - loss: 0.2758\n",
            "Epoch 15/20\n",
            "60/60 - 10s - 170ms/step - accuracy: 0.9204 - loss: 0.2290\n",
            "Epoch 16/20\n",
            "60/60 - 7s - 120ms/step - accuracy: 0.9273 - loss: 0.1831\n",
            "Epoch 17/20\n",
            "60/60 - 10s - 171ms/step - accuracy: 0.9462 - loss: 0.1307\n",
            "Epoch 18/20\n",
            "60/60 - 10s - 169ms/step - accuracy: 0.9615 - loss: 0.0946\n",
            "Epoch 19/20\n",
            "60/60 - 10s - 170ms/step - accuracy: 0.9626 - loss: 0.1003\n",
            "Epoch 20/20\n",
            "60/60 - 10s - 172ms/step - accuracy: 0.9647 - loss: 0.0832\n"
          ]
        }
      ]
    },
    {
      "cell_type": "code",
      "source": [
        "pred=model.evaluate(test_x,test_y)\n",
        "print(\"loss:\"+str([pred[0]]))\n",
        "print(\"accuracy\"+str(pred[1]))"
      ],
      "metadata": {
        "colab": {
          "base_uri": "https://localhost:8080/"
        },
        "id": "aOg_NkrvKDWf",
        "outputId": "f670d6b6-b2c6-429d-b00a-5c652977eb5c"
      },
      "execution_count": 34,
      "outputs": [
        {
          "output_type": "stream",
          "name": "stdout",
          "text": [
            "\u001b[1m4/4\u001b[0m \u001b[32m━━━━━━━━━━━━━━━━━━━━\u001b[0m\u001b[37m\u001b[0m \u001b[1m18s\u001b[0m 4s/step - accuracy: 0.9416 - loss: 0.2682\n",
            "loss:[0.24942390620708466]\n",
            "accuracy0.9399999976158142\n"
          ]
        }
      ]
    },
    {
      "cell_type": "code",
      "source": [
        "import matplotlib.pyplot as plt\n",
        "\n",
        "# Assuming you saved the history when training:\n",
        "# hist = model.fit(...)\n",
        "\n",
        "# Plot Accuracy\n",
        "plt.figure(figsize=(10,5))\n",
        "plt.plot(hist.history['accuracy'], label='Train Accuracy')\n",
        "if 'val_accuracy' in hist.history:\n",
        "    plt.plot(hist.history['val_accuracy'], label='Validation Accuracy')\n",
        "plt.title('Model Accuracy')\n",
        "plt.xlabel('Epochs')\n",
        "plt.ylabel('Accuracy')\n",
        "plt.legend()\n",
        "plt.grid()\n",
        "plt.show()\n",
        "\n",
        "# Plot Loss\n",
        "plt.figure(figsize=(10,5))\n",
        "plt.plot(hist.history['loss'], label='Train Loss')\n",
        "if 'val_loss' in hist.history:\n",
        "    plt.plot(hist.history['val_loss'], label='Validation Loss')\n",
        "plt.title('Model Loss')\n",
        "plt.xlabel('Epochs')\n",
        "plt.ylabel('Loss')\n",
        "plt.legend()\n",
        "plt.grid()\n",
        "plt.show()\n"
      ],
      "metadata": {
        "colab": {
          "base_uri": "https://localhost:8080/",
          "height": 957
        },
        "id": "nwX3DdZyPR8K",
        "outputId": "d4a57c55-a471-4495-ca05-1f85b946a664"
      },
      "execution_count": 44,
      "outputs": [
        {
          "output_type": "display_data",
          "data": {
            "text/plain": [
              "<Figure size 1000x500 with 1 Axes>"
            ],
            "image/png": "[encoded data removed]"
          },
          "metadata": {}
        },
        {
          "output_type": "display_data",
          "data": {
            "text/plain": [
              "<Figure size 1000x500 with 1 Axes>"
            ],
            "image/png": "[encoded data removed]"
          },
          "metadata": {}
        }
      ]
    },
    {
      "cell_type": "code",
      "source": [
        "import cv2\n",
        "import numpy as np\n",
        "\n",
        "def preprocess_image(img_path, img_size=224):\n",
        "    img = cv2.imread(img_path)              # Load image (BGR)\n",
        "    img = cv2.cvtColor(img, cv2.COLOR_BGR2RGB) # Convert to RGB\n",
        "    img = cv2.resize(img, (img_size, img_size)) # Resize\n",
        "    img = img.astype(\"float32\") / 255.0     # Normalize\n",
        "    img = np.expand_dims(img, axis=0)       # (1,224,224,3)\n",
        "    return img\n"
      ],
      "metadata": {
        "id": "7OUFx7QUNZGd"
      },
      "execution_count": 35,
      "outputs": []
    },
    {
      "cell_type": "code",
      "source": [
        "test_img=preprocess_image(\"/content/drive/MyDrive/processed_faces_final/real/033_face_10.jpg\")\n",
        "\n",
        "test_prediction=model.predict(test_img)\n"
      ],
      "metadata": {
        "colab": {
          "base_uri": "https://localhost:8080/"
        },
        "id": "kpKkLcBgOhpc",
        "outputId": "65b29c9f-e67b-4298-8d0c-e8c5fec12ab3"
      },
      "execution_count": 42,
      "outputs": [
        {
          "output_type": "stream",
          "name": "stdout",
          "text": [
            "\u001b[1m1/1\u001b[0m \u001b[32m━━━━━━━━━━━━━━━━━━━━\u001b[0m\u001b[37m\u001b[0m \u001b[1m0s\u001b[0m 37ms/step\n"
          ]
        }
      ]
    },
    {
      "cell_type": "code",
      "source": [
        "print(test_prediction)"
      ],
      "metadata": {
        "colab": {
          "base_uri": "https://localhost:8080/"
        },
        "id": "Q-1d-boEPLqJ",
        "outputId": "6e9aeb0c-56f9-4936-ab6c-f7ee497c44af"
      },
      "execution_count": 43,
      "outputs": [
        {
          "output_type": "stream",
          "name": "stdout",
          "text": [
            "[[9.992169e-01 7.831014e-04]]\n"
          ]
        }
      ]
    },
    {
      "cell_type": "code",
      "source": [
        "model.save(\"deepfake_CNN_model.h5\")\n"
      ],
      "metadata": {
        "colab": {
          "base_uri": "https://localhost:8080/"
        },
        "id": "T4l98D5ATpZG",
        "outputId": "b913b0df-1fff-49b1-f0d0-f37290b9790a"
      },
      "execution_count": 45,
      "outputs": [
        {
          "output_type": "stream",
          "name": "stderr",
          "text": [
            "WARNING:absl:You are saving your model as an HDF5 file via `model.save()` or `keras.saving.save_model(model)`. This file format is considered legacy. We recommend using instead the native Keras format, e.g. `model.save('my_model.keras')` or `keras.saving.save_model(model, 'my_model.keras')`. \n"
          ]
        }
      ]
    },
    {
      "cell_type": "code",
      "source": [
        "from google.colab import files\n",
        "files.download(\"deepfake_CNN_model.h5\")"
      ],
      "metadata": {
        "colab": {
          "base_uri": "https://localhost:8080/",
          "height": 17
        },
        "id": "51tQlZr0UH3y",
        "outputId": "8a766338-4dea-4a22-f80e-7e1646f77706"
      },
      "execution_count": 46,
      "outputs": [
        {
          "output_type": "display_data",
          "data": {
            "text/plain": [
              "<IPython.core.display.Javascript object>"
            ],
            "application/javascript": [
              "\n",
              "    async function download(id, filename, size) {\n",
              "      if (!google.colab.kernel.accessAllowed) {\n",
              "        return;\n",
              "      }\n",
              "      const div = document.createElement('div');\n",
              "      const label = document.createElement('label');\n",
              "      label.textContent = `Downloading \"${filename}\": `;\n",
              "      div.appendChild(label);\n",
              "      const progress = document.createElement('progress');\n",
              "      progress.max = size;\n",
              "      div.appendChild(progress);\n",
              "      document.body.appendChild(div);\n",
              "\n",
              "      const buffers = [];\n",
              "      let downloaded = 0;\n",
              "\n",
              "      const channel = await google.colab.kernel.comms.open(id);\n",
              "      // Send a message to notify the kernel that we're ready.\n",
              "      channel.send({})\n",
              "\n",
              "      for await (const message of channel.messages) {\n",
              "        // Send a message to notify the kernel that we're ready.\n",
              "        channel.send({})\n",
              "        if (message.buffers) {\n",
              "          for (const buffer of message.buffers) {\n",
              "            buffers.push(buffer);\n",
              "            downloaded += buffer.byteLength;\n",
              "            progress.value = downloaded;\n",
              "          }\n",
              "        }\n",
              "      }\n",
              "      const blob = new Blob(buffers, {type: 'application/binary'});\n",
              "      const a = document.createElement('a');\n",
              "      a.href = window.URL.createObjectURL(blob);\n",
              "      a.download = filename;\n",
              "      div.appendChild(a);\n",
              "      a.click();\n",
              "      div.remove();\n",
              "    }\n",
              "  "
            ]
          },
          "metadata": {}
        },
        {
          "output_type": "display_data",
          "data": {
            "text/plain": [
              "<IPython.core.display.Javascript object>"
            ],
            "application/javascript": [
              "download(\"download_3ad31936-912a-4ffe-9584-6c22de4dae82\", \"deepfake_CNN_model.h5\", 48972696)"
            ]
          },
          "metadata": {}
        }
      ]
    },
    {
      "cell_type": "code",
      "source": [],
      "metadata": {
        "id": "Dk5Vt9AlUbKa"
      },
      "execution_count": null,
      "outputs": []
    }
  ]
}